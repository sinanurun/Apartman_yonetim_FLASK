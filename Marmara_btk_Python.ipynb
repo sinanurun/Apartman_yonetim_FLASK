{
  "nbformat": 4,
  "nbformat_minor": 0,
  "metadata": {
    "colab": {
      "name": "Marmara_btk_Python.ipynb",
      "provenance": [],
      "authorship_tag": "ABX9TyOoIqu4kjSfgrIe5BCdCCOd",
      "include_colab_link": true
    },
    "kernelspec": {
      "name": "python3",
      "display_name": "Python 3"
    }
  },
  "cells": [
    {
      "cell_type": "markdown",
      "metadata": {
        "id": "view-in-github",
        "colab_type": "text"
      },
      "source": [
        "<a href=\"https://colab.research.google.com/github/sinanurun/Apartman_yonetim_FLASK/blob/main/Marmara_btk_Python.ipynb\" target=\"_parent\"><img src=\"https://colab.research.google.com/assets/colab-badge.svg\" alt=\"Open In Colab\"/></a>"
      ]
    },
    {
      "cell_type": "markdown",
      "metadata": {
        "id": "FzoDMsCutqHm"
      },
      "source": [
        "# Giriş Bölümü"
      ]
    },
    {
      "cell_type": "markdown",
      "metadata": {
        "id": "f9GWZ8KAtJz5"
      },
      "source": [
        "yorum satırı eklemek için # tek satırlık yorumlar için \n",
        "\"\"\"\n",
        "çok satır \n",
        "dfsdsf\n",
        "\"\"\""
      ]
    },
    {
      "cell_type": "code",
      "metadata": {
        "colab": {
          "base_uri": "https://localhost:8080/"
        },
        "id": "zPbnCjc3mGVp",
        "outputId": "da1acbfd-d4a6-4520-fd9a-48733074710c"
      },
      "source": [
        "print(\"Merhaba\")"
      ],
      "execution_count": 2,
      "outputs": [
        {
          "output_type": "stream",
          "text": [
            "Merhaba\n"
          ],
          "name": "stdout"
        }
      ]
    },
    {
      "cell_type": "markdown",
      "metadata": {
        "id": "IJ9LFYyuugyt"
      },
      "source": [
        "# veri tipler"
      ]
    },
    {
      "cell_type": "markdown",
      "metadata": {
        "id": "2Ypb1n2kurUP"
      },
      "source": [
        "Veri Tipler\n",
        "\n",
        "\n",
        "*   String metinsel\n",
        "*   Sayısal int float\n",
        "*   boolean\n",
        "\n",
        "\n",
        "\n",
        "\n",
        "\n"
      ]
    },
    {
      "cell_type": "code",
      "metadata": {
        "colab": {
          "base_uri": "https://localhost:8080/"
        },
        "id": "tX6eeCHguMhu",
        "outputId": "f0646785-a811-44f4-ff8b-b340c11d3418"
      },
      "source": [
        "print(\"Marmara BTK\")"
      ],
      "execution_count": 3,
      "outputs": [
        {
          "output_type": "stream",
          "text": [
            "Marmara BTK\n"
          ],
          "name": "stdout"
        }
      ]
    },
    {
      "cell_type": "code",
      "metadata": {
        "colab": {
          "base_uri": "https://localhost:8080/"
        },
        "id": "u-OK4Cc1vP5q",
        "outputId": "09e5019b-6f3c-4680-9a36-8dd924161c1d"
      },
      "source": [
        "print(21) # int yani, integer ifadeler tırnaksız belirtilir"
      ],
      "execution_count": 4,
      "outputs": [
        {
          "output_type": "stream",
          "text": [
            "21\n"
          ],
          "name": "stdout"
        }
      ]
    },
    {
      "cell_type": "code",
      "metadata": {
        "colab": {
          "base_uri": "https://localhost:8080/"
        },
        "id": "YVkQgVnjvjjN",
        "outputId": "da695ac2-256b-40db-c571-fe2b06d7bc4a"
      },
      "source": [
        "print(1.94) # float yani ondalıklı sayılar için . kullanılır"
      ],
      "execution_count": 5,
      "outputs": [
        {
          "output_type": "stream",
          "text": [
            "1.94\n"
          ],
          "name": "stdout"
        }
      ]
    },
    {
      "cell_type": "code",
      "metadata": {
        "id": "_fNlirC1vxhC"
      },
      "source": [
        "print(True) # True Flase şeklinde boolean ifadeler belirtilir"
      ],
      "execution_count": null,
      "outputs": []
    },
    {
      "cell_type": "code",
      "metadata": {
        "colab": {
          "base_uri": "https://localhost:8080/",
          "height": 52
        },
        "id": "ueTGPaoxwRCh",
        "outputId": "3ee167a9-30f4-4273-927e-2cf09bc78ce8"
      },
      "source": [
        "input() #input ile string tipinde bilgiler kullanıcdan bilgisayara aktarılır"
      ],
      "execution_count": 6,
      "outputs": [
        {
          "output_type": "stream",
          "text": [
            "5\n"
          ],
          "name": "stdout"
        },
        {
          "output_type": "execute_result",
          "data": {
            "application/vnd.google.colaboratory.intrinsic+json": {
              "type": "string"
            },
            "text/plain": [
              "'5'"
            ]
          },
          "metadata": {
            "tags": []
          },
          "execution_count": 6
        }
      ]
    },
    {
      "cell_type": "code",
      "metadata": {
        "colab": {
          "base_uri": "https://localhost:8080/"
        },
        "id": "JPNqvbx9wjcM",
        "outputId": "f674fa8f-5953-4f98-9601-3f013663f6c8"
      },
      "source": [
        "isim = \"Ersin\"\n",
        "print(isim)\n",
        "print(type(isim))"
      ],
      "execution_count": 9,
      "outputs": [
        {
          "output_type": "stream",
          "text": [
            "Ersin\n",
            "<class 'str'>\n"
          ],
          "name": "stdout"
        }
      ]
    },
    {
      "cell_type": "code",
      "metadata": {
        "colab": {
          "base_uri": "https://localhost:8080/"
        },
        "id": "L4qhSYkuxgLF",
        "outputId": "4787a8b6-8d45-43ef-b93d-dcdb59b7e155"
      },
      "source": [
        "yas = 21\n",
        "print(yas)\n",
        "print(type(yas))"
      ],
      "execution_count": 11,
      "outputs": [
        {
          "output_type": "stream",
          "text": [
            "21\n",
            "<class 'int'>\n"
          ],
          "name": "stdout"
        }
      ]
    },
    {
      "cell_type": "code",
      "metadata": {
        "colab": {
          "base_uri": "https://localhost:8080/"
        },
        "id": "drSMm1fvxs5m",
        "outputId": "b1ac1cf3-8f7d-43e8-f235-ed8ba85ab151"
      },
      "source": [
        "#print(\"adınız nedir ?\")\n",
        "isim = input(\"Adınız Nedir ? \")\n",
        "print(\"senin adın\",isim) # print içierisinde birden fazla değeri ya da veriyi yazdırmak için \",\" kullanılır\n",
        "yas = int(input(\"Yaşınız kaç ? \"))  #int(x) x gibi bir değeri integer çevirir\n",
        "print(isim,\"senin yaşın :\",yas)\n",
        "boy = float(input(\"Boy bilgisi giriniz\"))\n",
        "print(isim,\"senin yaşın :\",yas,\"boyun : \",boy)\n",
        "\n"
      ],
      "execution_count": 20,
      "outputs": [
        {
          "output_type": "stream",
          "text": [
            "Adınız Nedir ? Berkay\n",
            "senin adın Berkay\n",
            "Yaşınız kaç ? 20\n",
            "Berkay senin yaşın : 20\n",
            "Boy bilgisi giriniz1.85\n",
            "Berkay senin yaşın : 20 boyun :  1.85\n"
          ],
          "name": "stdout"
        }
      ]
    },
    {
      "cell_type": "markdown",
      "metadata": {
        "id": "0U84ZPqGz2If"
      },
      "source": [
        "Tip dönüşümü\n",
        "\n",
        "a = int(\"5\")\n",
        "b = float(\"2.55\")\n",
        "bool(x)\n",
        "c = str(255) \"255\""
      ]
    },
    {
      "cell_type": "markdown",
      "metadata": {
        "id": "SxLF56y31Lv1"
      },
      "source": [
        "işlemler\n",
        "\n",
        "+,-,*,/ (float),% (Mod), // (Tam bölme)\n",
        "\n",
        "<,>,<=,>=,==,!= karşılaştırma operatörleri\n",
        "\n",
        "and or mantıksal operatörler \n"
      ]
    },
    {
      "cell_type": "code",
      "metadata": {
        "colab": {
          "base_uri": "https://localhost:8080/"
        },
        "id": "v7v6m0Gp11pS",
        "outputId": "d5037c8f-3247-4b3e-923e-156a174043d9"
      },
      "source": [
        "ad = input(\"adınızı giriniz\")\n",
        "if ad == \"Sedanur\":\n",
        "  print(\"adaşız\")\n",
        "else:\n",
        "  print(\"adaş değiliz\")"
      ],
      "execution_count": 25,
      "outputs": [
        {
          "output_type": "stream",
          "text": [
            "adınızı girinizPelin\n",
            "adaş değiliz\n"
          ],
          "name": "stdout"
        }
      ]
    },
    {
      "cell_type": "code",
      "metadata": {
        "colab": {
          "base_uri": "https://localhost:8080/"
        },
        "id": "e3CtwKqi3MAo",
        "outputId": "c54e1507-2ca4-4579-e28b-a8a41805fd8c"
      },
      "source": [
        "futbol = input(\"Futbol oynuyor musun ?\")\n",
        "bolum = input(\"bölümün nedir ?\")\n",
        "if futbol == \"evet\" and bolum ==\"böte\":\n",
        "  print(\"bölüm takımında oynayabilirsin\")\n",
        "else:\n",
        "  print(\"oynayamazsın\")"
      ],
      "execution_count": 28,
      "outputs": [
        {
          "output_type": "stream",
          "text": [
            "Futbol oynuyor musun ?hayır\n",
            "bölümün nedir ?edebiyat\n",
            "oynayamazsın\n"
          ],
          "name": "stdout"
        }
      ]
    },
    {
      "cell_type": "code",
      "metadata": {
        "colab": {
          "base_uri": "https://localhost:8080/"
        },
        "id": "2jvaMRcV3_31",
        "outputId": "c94f060f-de89-4acc-8796-1a4fc27e4a9b"
      },
      "source": [
        "gun = input(\"hangi gün : \")\n",
        "if gun == \"pazartesi\":\n",
        "  print(\"Tasarım dersi\")\n",
        "elif gun == \"salı\": # else + if => elif\n",
        "  print(\"programlama\")\n",
        "elif gun == \"çarşamba\": # else + if => elif\n",
        "  print(\"öğretim tasarımı\")\n",
        "elif gun == \"perşembe\": # else + if => elif\n",
        "  print(\"web programlama\")\n",
        "elif gun == \"cuma\": # else + if => elif\n",
        "  print(\"veri tabanı\")\n",
        "else:\n",
        "  print(\"haftasonu ders yok\")"
      ],
      "execution_count": 35,
      "outputs": [
        {
          "output_type": "stream",
          "text": [
            "hangi gün : salı\n",
            "programlama\n"
          ],
          "name": "stdout"
        }
      ]
    },
    {
      "cell_type": "code",
      "metadata": {
        "id": "o9P31KW35z7Z"
      },
      "source": [
        "for degisken in range(10):\n",
        "  print(degisken)"
      ],
      "execution_count": null,
      "outputs": []
    },
    {
      "cell_type": "code",
      "metadata": {
        "id": "013kuqbn667t"
      },
      "source": [
        "pizza = int(input(\"kaç dilim pizza istersiniz : \"))\n",
        "for dilim in range(1,pizza+1): #range(başlangıç,bitiş,artış)\n",
        "  print(dilim,\". pizzanız afiyet olsun\")"
      ],
      "execution_count": null,
      "outputs": []
    },
    {
      "cell_type": "code",
      "metadata": {
        "colab": {
          "base_uri": "https://localhost:8080/"
        },
        "id": "tfWNKW7g8FYx",
        "outputId": "cdc80157-a772-410c-bec8-c59e4e2d8d8d"
      },
      "source": [
        "cevap = input(\"doydunuz mu ?\")\n",
        "while cevap == \"hayır\":\n",
        "  print(\"yeni pizzanız afiyet olsun\")\n",
        "  cevap = input(\"doydunuz mu ?\")"
      ],
      "execution_count": 48,
      "outputs": [
        {
          "output_type": "stream",
          "text": [
            "doydunuz mu ?evet\n"
          ],
          "name": "stdout"
        }
      ]
    },
    {
      "cell_type": "code",
      "metadata": {
        "colab": {
          "base_uri": "https://localhost:8080/"
        },
        "id": "95-x4xV59OQA",
        "outputId": "765b215d-b5d2-4ebd-d0de-f2a607702811"
      },
      "source": [
        "pizza = 0\n",
        "while True:\n",
        "  print(\"yeni pizzanız afiyet olsun\")\n",
        "  pizza += 1 # pizza = pizza + 1\n",
        "  cevap = input(\"doydunuz mu ?\")\n",
        "  if cevap == \"evet\":\n",
        "    break\n",
        "print(pizza,\" dilim kadar pizza yedinizev\")"
      ],
      "execution_count": 51,
      "outputs": [
        {
          "output_type": "stream",
          "text": [
            "yeni pizzanız afiyet olsun\n",
            "doydunuz mu ?hayı\n",
            "yeni pizzanız afiyet olsun\n",
            "doydunuz mu ?hayır\n",
            "yeni pizzanız afiyet olsun\n",
            "doydunuz mu ?et\n",
            "yeni pizzanız afiyet olsun\n",
            "doydunuz mu ?evet\n",
            "4  dilim kadar pizza yediniz\n"
          ],
          "name": "stdout"
        }
      ]
    },
    {
      "cell_type": "code",
      "metadata": {
        "colab": {
          "base_uri": "https://localhost:8080/",
          "height": 494
        },
        "id": "KnixU_k7-FVo",
        "outputId": "bc9722c0-5451-43c9-c643-0575f29f4614"
      },
      "source": [
        "ogrenci1 = [\"Ersin\",\"GÜLEÇ\",\"BÖTE\",21,\"Web Programlama\",34,True,3.5]\n",
        "ogrenci2 = [\"Sedanur\",\"KÖÇ\",\"BÖTE\",20,\"Grafik Tasarım\",34,False,3]\n",
        "ogrenciler = [ogrenci1,ogrenci2]\n",
        "print(ogrenci)\n",
        "for bilgi in ogrenci1:\n",
        "  print(bilgi)\n",
        "\n",
        "for ogrenci in ogrenciler:\n",
        "  print(ogrenci)\n",
        "  for bilgi in ogrenci:\n",
        "    print(bilgi)\n",
        "\"\"\"\n",
        "if \"Mahmut\" in ogrenci:\n",
        "  print(\"var\")\n",
        "else:\n",
        "  print(\"yok\")\n",
        "\"\"\""
      ],
      "execution_count": 59,
      "outputs": [
        {
          "output_type": "stream",
          "text": [
            "['Sedanur', 'KÖÇ', 'BÖTE', 20, 'Grafik Tasarım', 34, False, 3]\n",
            "Ersin\n",
            "GÜLEÇ\n",
            "BÖTE\n",
            "21\n",
            "Web Programlama\n",
            "34\n",
            "True\n",
            "3.5\n",
            "['Ersin', 'GÜLEÇ', 'BÖTE', 21, 'Web Programlama', 34, True, 3.5]\n",
            "Ersin\n",
            "GÜLEÇ\n",
            "BÖTE\n",
            "21\n",
            "Web Programlama\n",
            "34\n",
            "True\n",
            "3.5\n",
            "['Sedanur', 'KÖÇ', 'BÖTE', 20, 'Grafik Tasarım', 34, False, 3]\n",
            "Sedanur\n",
            "KÖÇ\n",
            "BÖTE\n",
            "20\n",
            "Grafik Tasarım\n",
            "34\n",
            "False\n",
            "3\n"
          ],
          "name": "stdout"
        },
        {
          "output_type": "execute_result",
          "data": {
            "application/vnd.google.colaboratory.intrinsic+json": {
              "type": "string"
            },
            "text/plain": [
              "'\\nif \"Mahmut\" in ogrenci:\\n  print(\"var\")\\nelse:\\n  print(\"yok\")\\n'"
            ]
          },
          "metadata": {
            "tags": []
          },
          "execution_count": 59
        }
      ]
    },
    {
      "cell_type": "code",
      "metadata": {
        "colab": {
          "base_uri": "https://localhost:8080/"
        },
        "id": "GDp02wleB9Rc",
        "outputId": "ba1340e9-760f-414f-9a3b-a465a312a60e"
      },
      "source": [
        "def merhaba():\n",
        "  print(\"merhabalar\")\n"
      ],
      "execution_count": 62,
      "outputs": [
        {
          "output_type": "stream",
          "text": [
            "merhabalar\n",
            "merhabalar\n",
            "merhabalar\n"
          ],
          "name": "stdout"
        }
      ]
    },
    {
      "cell_type": "code",
      "metadata": {
        "colab": {
          "base_uri": "https://localhost:8080/"
        },
        "id": "PkZ1ClBLCW6Y",
        "outputId": "96406f8e-31d5-428b-c823-a54c47257ca3"
      },
      "source": [
        "def topla(a,b):\n",
        "  c = a + b\n",
        "  return c\n",
        "\n",
        "def sayigir():\n",
        "  x = int(input(\"sayı giriniz : \"))\n",
        "  return x\n",
        "sayi01 = sayigir()\n",
        "sayi02 = sayigir()\n",
        "print(topla(sayi01,sayi02))"
      ],
      "execution_count": 66,
      "outputs": [
        {
          "output_type": "stream",
          "text": [
            "sayı giriniz : 6\n",
            "sayı giriniz : 84\n",
            "90\n"
          ],
          "name": "stdout"
        }
      ]
    }
  ]
}